{
 "cells": [
  {
   "cell_type": "code",
   "execution_count": null,
   "metadata": {},
   "outputs": [],
   "source": [
    "'''\n",
    "Created 01/02/2022\n",
    "by Samuel Valman https://github.com/SamValman\n",
    "for Templeton Bahamas Project, UoN Rights Lab\n",
    "Data downloaded from GEE to Google Drive (templetonprojectbah@gmail.com) using batches derived from bahamas outline map. \n",
    "Full method in report.\n",
    "'''"
   ]
  },
  {
   "cell_type": "code",
   "execution_count": null,
   "metadata": {},
   "outputs": [],
   "source": [
    "import pandas as pd\n",
    "import geemap\n",
    "import ee\n",
    "import os\n",
    "ee.Initialize()\n",
    "import time"
   ]
  },
  {
   "cell_type": "code",
   "execution_count": null,
   "metadata": {},
   "outputs": [],
   "source": [
    "# def Planet_Cloud_Function(image):\n",
    "#     mask = image.select('udm1').eq(0)\n",
    "#     return image.updateMask(mask)\n",
    "\n",
    "\n",
    "c = ee.FeatureCollection(\"FAO/GAUL/2015/level0\").filter(ee.Filter.inList('ADM0_NAME',['Bahamas']))\n",
    "batch = ee.FeatureCollection('users/templetonprojectbah/bahamas_small')"
   ]
  },
  {
   "cell_type": "code",
   "execution_count": null,
   "metadata": {},
   "outputs": [],
   "source": [
    "batch_ls = batch.toList(400)\n",
    "# batch.size().getInfo()"
   ]
  },
  {
   "cell_type": "code",
   "execution_count": null,
   "metadata": {},
   "outputs": [],
   "source": [
    "#scale \n",
    "scale =  3.5"
   ]
  },
  {
   "cell_type": "markdown",
   "metadata": {},
   "source": [
    "# use this one not the noNormal from here on in "
   ]
  },
  {
   "cell_type": "code",
   "execution_count": null,
   "metadata": {},
   "outputs": [],
   "source": [
    "def download_planet_rgbOnly(ic,shp, fn,folder, scale, step, clip=0, clip_ls=0):\n",
    "    '''\n",
    "    requires: geemap, ee, os\n",
    "    step must be list\n",
    "    path = real path\n",
    "    fn = 'name.tif'  string\n",
    "    '''\n",
    "    def Planet_Cloud_Function(image):\n",
    "        mask = image.select('udm1').eq(0)\n",
    "        return image.updateMask(mask)\n",
    "    ic = ic.map(lambda x:Planet_Cloud_Function(x))\n",
    "    im = ic.median().clip(shp)\n",
    "    \n",
    "    \n",
    "    # dowload\n",
    "    if clip ==1:\n",
    "        batch = clip_ls\n",
    "        for i in range(0,clip_ls.size().getInfo()):\n",
    "        \n",
    "            shp = ee.Feature(batch.get(i))\n",
    "\n",
    "            filen = fn + str(i)\n",
    "            geemap.ee_export_image_to_drive(im, description = filen, folder=folder, scale=scale, region=shp.geometry())\n",
    "            time.sleep(60)\n",
    "    else:\n",
    "        batch = ee.FeatureCollection('users/templetonprojectbah/bahamas_small').toList(400)    \n",
    "    \n",
    "        for i in step:\n",
    "            shp = ee.Feature(batch.get(i))\n",
    "\n",
    "            filen = fn + str(i)\n",
    "            geemap.ee_export_image_to_drive(im, description = filen, folder=folder, scale=scale, region=shp.geometry())\n",
    "            time.sleep(100)\n",
    "\n"
   ]
  },
  {
   "cell_type": "code",
   "execution_count": null,
   "metadata": {},
   "outputs": [],
   "source": [
    "# import time\n",
    "# time.sleep(43200)"
   ]
  },
  {
   "cell_type": "code",
   "execution_count": null,
   "metadata": {},
   "outputs": [],
   "source": [
    "def download_planet_deriv(ic,shp, fn,folder, scale, step, clip=0, clip_ls=0):\n",
    "    '''\n",
    "    requires: geemap, ee, os\n",
    "    step must be list\n",
    "    path = real path\n",
    "    fn = 'name.tif'  string\n",
    "    '''\n",
    "    def Planet_Cloud_Function(image):\n",
    "        mask = image.select('udm1').eq(0)\n",
    "        return image.updateMask(mask)\n",
    "    ic = ic.map(lambda x:Planet_Cloud_Function(x))\n",
    "    im = ic.median().clip(shp)\n",
    "    \n",
    "    # bandmath \n",
    "    ndvi = im.normalizedDifference(['B4', 'B3']).rename('NDVI')\n",
    "    ndwi = im.normalizedDifference(['B2', 'B4']).rename('NDWI')\n",
    "    savi = im.expression(\n",
    "              '((NIR-Red)/(NIR + Red +L)) * (1+L)', \n",
    "                 {'NIR': im.select('B4'),'Red': im.select('B3'),'L': 0.5}).rename('SAVI')\n",
    "    \n",
    "    \n",
    "    # dowload\n",
    "    if clip ==1:\n",
    "        batch = clip_ls\n",
    "        for i in range(0,clip_ls.size().getInfo()):\n",
    "\n",
    "            shp = ee.Feature(batch.get(i))\n",
    "\n",
    "            filen = fn + str(i)\n",
    "            fn_ndvi = filen+'_ndvi'\n",
    "            geemap.ee_export_image_to_drive(ndvi, description = fn_ndvi, folder=folder, scale=scale, region=shp.geometry())\n",
    "\n",
    "            fn_ndwi = filen+'_ndwi'\n",
    "            geemap.ee_export_image_to_drive(ndwi, description = fn_ndwi, folder=folder, scale=scale, region=shp.geometry())\n",
    "\n",
    "            fn_savi = filen+'_savi'\n",
    "            geemap.ee_export_image_to_drive(savi, description = fn_savi, folder=folder, scale=scale, region=shp.geometry())\n",
    "            time.sleep(100)# help google not kill us\n",
    "    else:\n",
    "        batch = ee.FeatureCollection('users/templetonprojectbah/bahamas_small').toList(400)\n",
    "    \n",
    "        for i in step:\n",
    "\n",
    "            shp = ee.Feature(batch.get(i))\n",
    "\n",
    "            filen = fn + str(i)\n",
    "    #         geemap.ee_export_image_to_drive(im, description = filen, folder='Grand', scale=scale, region=shp.geometry())\n",
    "            fn_ndvi = filen+'_ndvi'\n",
    "            geemap.ee_export_image_to_drive(ndvi, description = fn_ndvi, folder=folder, scale=scale, region=shp.geometry())\n",
    "\n",
    "            fn_ndwi = filen+'_ndwi'\n",
    "            geemap.ee_export_image_to_drive(ndwi, description = fn_ndwi, folder=folder, scale=scale, region=shp.geometry())\n",
    "\n",
    "            fn_savi = filen+'_savi'\n",
    "            geemap.ee_export_image_to_drive(savi, description = fn_savi, folder=folder, scale=scale, region=shp.geometry())\n",
    "            time.sleep(100)# help google not kill us\n"
   ]
  },
  {
   "cell_type": "code",
   "execution_count": null,
   "metadata": {},
   "outputs": [],
   "source": [
    "# ld = Map.draw_last_feature\n",
    "# clip = temp_all.filterBounds(ld.geometry())\n",
    "steps = []"
   ]
  },
  {
   "cell_type": "markdown",
   "metadata": {},
   "source": [
    "# carrying it out"
   ]
  },
  {
   "cell_type": "markdown",
   "metadata": {},
   "source": [
    "# 1. get batch_numbers"
   ]
  },
  {
   "cell_type": "code",
   "execution_count": null,
   "metadata": {},
   "outputs": [],
   "source": [
    "Map = geemap.Map()\n",
    "Map.addLayer(c)\n",
    "Map.addLayer(s18)\n",
    "Map.centerObject(c, zoom=9)\n",
    "Map"
   ]
  },
  {
   "cell_type": "code",
   "execution_count": null,
   "metadata": {},
   "outputs": [],
   "source": [
    "ld = Map.draw_last_feature\n",
    "clip = batch.filterBounds(ld.geometry())\n",
    "clip_ls = clip.toList(clip.size().getInfo())\n",
    "step=[]"
   ]
  },
  {
   "cell_type": "code",
   "execution_count": null,
   "metadata": {
    "scrolled": true
   },
   "outputs": [],
   "source": [
    "clip_ls.size().getInfo()"
   ]
  },
  {
   "cell_type": "code",
   "execution_count": null,
   "metadata": {},
   "outputs": [],
   "source": [
    "import datetime\n",
    "while datetime.datetime.now().hour != 9:\n",
    "    print('waiting')\n",
    "    time.sleep(1200)"
   ]
  },
  {
   "cell_type": "markdown",
   "metadata": {},
   "source": [
    "# 2. M18"
   ]
  },
  {
   "cell_type": "code",
   "execution_count": null,
   "metadata": {},
   "outputs": [],
   "source": [
    "# load M18\n",
    "m18 = ee.ImageCollection('projects/bahamas-339210/assets/M18')\n"
   ]
  },
  {
   "cell_type": "code",
   "execution_count": null,
   "metadata": {},
   "outputs": [],
   "source": [
    "# rgb\n",
    "m = download_planet_rgbOnly(ic=m18,shp=c, fn='m18',folder='M18', scale=scale, step=clip_ls, clip=1, clip_ls=clip_ls)\n",
    "# time.sleep(1000)\n",
    "m = download_planet_deriv(ic=m18,shp=c, fn='m18',folder='M18_d', scale=scale, step=clip_ls, clip=1, clip_ls=clip_ls)\n"
   ]
  },
  {
   "cell_type": "markdown",
   "metadata": {},
   "source": [
    "# 3. M19"
   ]
  },
  {
   "cell_type": "code",
   "execution_count": null,
   "metadata": {},
   "outputs": [],
   "source": [
    "m19 = ee.ImageCollection('projects/bahamas-339210/assets/M19')"
   ]
  },
  {
   "cell_type": "code",
   "execution_count": null,
   "metadata": {},
   "outputs": [],
   "source": [
    "time.sleep(1000)\n",
    "\n",
    "m = download_planet_rgbOnly(ic=m19,shp=c, fn='m19',folder='M19', scale=scale, step=clip_ls, clip=1, clip_ls=clip_ls)\n",
    "time.sleep(1000)\n",
    "m = download_planet_deriv(ic=m19,shp=c, fn='m19',folder='M19_d', scale=scale, step=clip_ls, clip=1, clip_ls=clip_ls)\n",
    "# time.sleep(1000)\n"
   ]
  },
  {
   "cell_type": "markdown",
   "metadata": {},
   "source": [
    "# 4. M20"
   ]
  },
  {
   "cell_type": "code",
   "execution_count": null,
   "metadata": {},
   "outputs": [],
   "source": [
    "m20 = ee.ImageCollection('projects/bahamas-339210/assets/M20')"
   ]
  },
  {
   "cell_type": "code",
   "execution_count": null,
   "metadata": {},
   "outputs": [],
   "source": [
    "m = download_planet_rgbOnly(ic=m20,shp=c, fn='m20',folder='M20', scale=scale, step=steps, clip=1, clip_ls=clip_ls)\n",
    "m = download_planet_deriv(ic=m20,shp=c, fn='m20',folder='M20_d', scale=scale, step=steps, clip=1, clip_ls=clip_ls)"
   ]
  },
  {
   "cell_type": "markdown",
   "metadata": {},
   "source": [
    "# 5. S18"
   ]
  },
  {
   "cell_type": "code",
   "execution_count": null,
   "metadata": {},
   "outputs": [],
   "source": [
    "s18 = ee.ImageCollection('projects/bahamas-339210/assets/S18')"
   ]
  },
  {
   "cell_type": "code",
   "execution_count": null,
   "metadata": {},
   "outputs": [],
   "source": [
    "# m = download_planet_rgbOnly(ic=s18,shp=c, fn='s18',folder='S18', scale=scale, step=steps, clip=1, clip_ls=clip_ls)\n",
    "m = download_planet_deriv(ic=s18,shp=c, fn='s18',folder='S18_d', scale=scale, step=steps, clip=1, clip_ls=clip_ls)"
   ]
  },
  {
   "cell_type": "markdown",
   "metadata": {},
   "source": [
    "# 6. S19"
   ]
  },
  {
   "cell_type": "code",
   "execution_count": null,
   "metadata": {},
   "outputs": [],
   "source": [
    "s19 = ee.ImageCollection('projects/bahamas-339210/assets/S19')"
   ]
  },
  {
   "cell_type": "code",
   "execution_count": null,
   "metadata": {},
   "outputs": [],
   "source": [
    "m = download_planet_rgbOnly(ic=s19,shp=c, fn='s19',folder='S19', scale=scale, step=steps, clip=1, clip_ls=clip_ls)\n",
    "m = download_planet_deriv(ic=s19,shp=c, fn='s19',folder='S19_d', scale=scale, step=steps, clip=1, clip_ls=clip_ls)"
   ]
  },
  {
   "cell_type": "markdown",
   "metadata": {},
   "source": [
    "# 7. S20"
   ]
  },
  {
   "cell_type": "code",
   "execution_count": null,
   "metadata": {},
   "outputs": [],
   "source": [
    "s20 = ee.ImageCollection('projects/bahamas-339210/assets/S20')"
   ]
  },
  {
   "cell_type": "code",
   "execution_count": null,
   "metadata": {},
   "outputs": [],
   "source": [
    "m = download_planet_rgbOnly(ic=s20,shp=c, fn='s20',folder='S20', scale=scale, step=steps, clip=1, clip_ls=clip_ls)\n",
    "m = download_planet_deriv(ic=s20,shp=c, fn='s20',folder='S20_d', scale=scale, step=steps, clip=1, clip_ls=clip_ls)"
   ]
  },
  {
   "cell_type": "markdown",
   "metadata": {},
   "source": [
    "----------------------"
   ]
  },
  {
   "cell_type": "code",
   "execution_count": null,
   "metadata": {},
   "outputs": [],
   "source": []
  }
 ],
 "metadata": {
  "kernelspec": {
   "display_name": "Python 3 (ipykernel)",
   "language": "python",
   "name": "python3"
  },
  "language_info": {
   "codemirror_mode": {
    "name": "ipython",
    "version": 3
   },
   "file_extension": ".py",
   "mimetype": "text/x-python",
   "name": "python",
   "nbconvert_exporter": "python",
   "pygments_lexer": "ipython3",
   "version": "3.9.9"
  }
 },
 "nbformat": 4,
 "nbformat_minor": 2
}
